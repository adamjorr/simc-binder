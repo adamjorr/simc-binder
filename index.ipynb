{
 "cells": [
  {
   "cell_type": "code",
   "execution_count": 1,
   "metadata": {},
   "outputs": [],
   "source": [
    "from ipywidgets import interact, interact_manual\n",
    "import ipywidgets as widgets\n",
    "from IPython.display import display, FileLink\n",
    "import subprocess\n",
    "import os.path\n"
   ]
  },
  {
   "cell_type": "code",
   "execution_count": 2,
   "metadata": {
    "scrolled": true
   },
   "outputs": [],
   "source": [
    "def run_simc(simscript):\n",
    "    subprocess.run([os.path.expanduser(\"~/simc/engine/simc\"),\"-\",\"html=out.html\"], input = simscript, stdout = subprocess.DEVNULL, universal_newlines=True)\n",
    "    return FileLink('out.html')"
   ]
  },
  {
   "cell_type": "markdown",
   "metadata": {},
   "source": [
    "# simc-binder\n",
    "\n",
    "simc-binder uses a jupyter notebook and [mybinder.org](mybinder.org) to serve a web app that runs a Simulationcraft simulation in the cloud. [mybinder.org](mybinder.org) is a free service; please do not abuse it with long-running or intensive simulations.\n",
    "\n",
    "## Run the simulation\n",
    "To run the sim, paste your simc script into the text box below and click the button.\n",
    "\n",
    "When your simulation is finished, you can click the link that appears to view your report. This html file can be saved to your computer if you'd like, but once your binder instance is shut down, the report will be deleted.\n"
   ]
  },
  {
   "cell_type": "code",
   "execution_count": 3,
   "metadata": {},
   "outputs": [
    {
     "data": {
      "application/vnd.jupyter.widget-view+json": {
       "model_id": "e36498a09d18417b8f3cd29092b95c87",
       "version_major": 2,
       "version_minor": 0
      },
      "text/plain": [
       "interactive(children=(Textarea(value='', description='simscript', placeholder='Enter your script here'), Butto…"
      ]
     },
     "metadata": {},
     "output_type": "display_data"
    }
   ],
   "source": [
    "interact_manual(run_simc, simscript = widgets.Textarea(placeholder = \"Enter your script here\"));"
   ]
  },
  {
   "cell_type": "code",
   "execution_count": null,
   "metadata": {},
   "outputs": [],
   "source": []
  }
 ],
 "metadata": {
  "kernelspec": {
   "display_name": "Python 3",
   "language": "python",
   "name": "python3"
  },
  "language_info": {
   "codemirror_mode": {
    "name": "ipython",
    "version": 3
   },
   "file_extension": ".py",
   "mimetype": "text/x-python",
   "name": "python",
   "nbconvert_exporter": "python",
   "pygments_lexer": "ipython3",
   "version": "3.6.6"
  },
  "widgets": {
   "application/vnd.jupyter.widget-state+json": {
    "state": {
     "011da2082450414884122dbb7c111288": {
      "model_module": "@jupyter-widgets/controls",
      "model_module_version": "1.2.0",
      "model_name": "ButtonStyleModel",
      "state": {}
     },
     "04cf28e18edd4327b6ceddc918b1a91e": {
      "model_module": "@jupyter-widgets/base",
      "model_module_version": "1.0.0",
      "model_name": "LayoutModel",
      "state": {}
     },
     "09ce14058ce24c5dbbd8bd7e95cac99c": {
      "model_module": "@jupyter-widgets/output",
      "model_module_version": "1.0.0",
      "model_name": "OutputModel",
      "state": {
       "layout": "IPY_MODEL_92dba21f11064806a1d64ce3e2d17f38"
      }
     },
     "0d3ab997d15145cf978cc15e137e67f5": {
      "model_module": "@jupyter-widgets/controls",
      "model_module_version": "1.2.0",
      "model_name": "DescriptionStyleModel",
      "state": {
       "description_width": ""
      }
     },
     "0e8be4d2b81d4ab9880e0d53f10e2cb6": {
      "model_module": "@jupyter-widgets/base",
      "model_module_version": "1.0.0",
      "model_name": "LayoutModel",
      "state": {}
     },
     "0eb49481e2fb4558bb348d93be6ad333": {
      "model_module": "@jupyter-widgets/controls",
      "model_module_version": "1.2.0",
      "model_name": "DescriptionStyleModel",
      "state": {
       "description_width": ""
      }
     },
     "0f664d6eb0f34a16b629880eb66fa2e2": {
      "model_module": "@jupyter-widgets/controls",
      "model_module_version": "1.2.0",
      "model_name": "VBoxModel",
      "state": {
       "_dom_classes": [
        "widget-interact"
       ],
       "children": [
        "IPY_MODEL_1c542c118ed54394b423f71258b233b3",
        "IPY_MODEL_5de999e8142e4e9988a7ea75af02a89e",
        "IPY_MODEL_94958ea19ace40e291be95e247189a22"
       ],
       "layout": "IPY_MODEL_60ed9fab21284b13992f87b55a9863b2"
      }
     },
     "1a7055bce01640f190c8f597291728a3": {
      "model_module": "@jupyter-widgets/base",
      "model_module_version": "1.0.0",
      "model_name": "LayoutModel",
      "state": {}
     },
     "1c542c118ed54394b423f71258b233b3": {
      "model_module": "@jupyter-widgets/controls",
      "model_module_version": "1.2.0",
      "model_name": "TextareaModel",
      "state": {
       "description": "simscript",
       "layout": "IPY_MODEL_1df61507cc5a4b7ebfa228f655c7ec0c",
       "placeholder": "Enter your script here",
       "style": "IPY_MODEL_80a12cceabf24a4b8ae507f751d2b4bc"
      }
     },
     "1df61507cc5a4b7ebfa228f655c7ec0c": {
      "model_module": "@jupyter-widgets/base",
      "model_module_version": "1.0.0",
      "model_name": "LayoutModel",
      "state": {}
     },
     "25c7f4dc7bdf40afb98f3771c9ebf3c1": {
      "model_module": "@jupyter-widgets/base",
      "model_module_version": "1.0.0",
      "model_name": "LayoutModel",
      "state": {}
     },
     "2978d36e8eec4214ae663e3ee34ba55e": {
      "model_module": "@jupyter-widgets/controls",
      "model_module_version": "1.2.0",
      "model_name": "ButtonStyleModel",
      "state": {}
     },
     "29a80f1b39d84e108c28bc9da087954b": {
      "model_module": "@jupyter-widgets/base",
      "model_module_version": "1.0.0",
      "model_name": "LayoutModel",
      "state": {}
     },
     "2dc3f791bc38468a9d2229e04ecd9006": {
      "model_module": "@jupyter-widgets/controls",
      "model_module_version": "1.2.0",
      "model_name": "TextareaModel",
      "state": {
       "description": "simscript",
       "layout": "IPY_MODEL_4207a5be2f26497f923a8c79d9ca77b1",
       "placeholder": "Enter your script here",
       "style": "IPY_MODEL_65bb849832dc46b49e78adef4d32aa8a"
      }
     },
     "399de5c3021f41609967d422338a8f89": {
      "model_module": "@jupyter-widgets/controls",
      "model_module_version": "1.2.0",
      "model_name": "VBoxModel",
      "state": {
       "_dom_classes": [
        "widget-interact"
       ],
       "children": [
        "IPY_MODEL_92422058f95b42ddaa917db975361b21",
        "IPY_MODEL_44860f683d1f4fd58e6ee9a2ce91b59b",
        "IPY_MODEL_09ce14058ce24c5dbbd8bd7e95cac99c"
       ],
       "layout": "IPY_MODEL_29a80f1b39d84e108c28bc9da087954b"
      }
     },
     "4207a5be2f26497f923a8c79d9ca77b1": {
      "model_module": "@jupyter-widgets/base",
      "model_module_version": "1.0.0",
      "model_name": "LayoutModel",
      "state": {}
     },
     "44860f683d1f4fd58e6ee9a2ce91b59b": {
      "model_module": "@jupyter-widgets/controls",
      "model_module_version": "1.2.0",
      "model_name": "ButtonModel",
      "state": {
       "description": "Run Interact",
       "layout": "IPY_MODEL_25c7f4dc7bdf40afb98f3771c9ebf3c1",
       "style": "IPY_MODEL_d42ca481a70047d6ae4a4f65caf68382"
      }
     },
     "58789ff73dd04cc8a3141ca81d6ffed8": {
      "model_module": "@jupyter-widgets/controls",
      "model_module_version": "1.2.0",
      "model_name": "VBoxModel",
      "state": {
       "_dom_classes": [
        "widget-interact"
       ],
       "children": [
        "IPY_MODEL_9ea5b392d6024bd3af2947539308ecac",
        "IPY_MODEL_62a6556f7b984defa4728d52c7c16e3a",
        "IPY_MODEL_fb9a5dfbe9d740e9aeabd89b6e746831"
       ],
       "layout": "IPY_MODEL_d2a6404cc8b643cf9d5f2fc4d7d984d5"
      }
     },
     "5de999e8142e4e9988a7ea75af02a89e": {
      "model_module": "@jupyter-widgets/controls",
      "model_module_version": "1.2.0",
      "model_name": "ButtonModel",
      "state": {
       "description": "Run Interact",
       "layout": "IPY_MODEL_891e36a01414437299eeadbf81238684",
       "style": "IPY_MODEL_2978d36e8eec4214ae663e3ee34ba55e"
      }
     },
     "60ed9fab21284b13992f87b55a9863b2": {
      "model_module": "@jupyter-widgets/base",
      "model_module_version": "1.0.0",
      "model_name": "LayoutModel",
      "state": {}
     },
     "62a6556f7b984defa4728d52c7c16e3a": {
      "model_module": "@jupyter-widgets/controls",
      "model_module_version": "1.2.0",
      "model_name": "ButtonModel",
      "state": {
       "description": "Run Interact",
       "layout": "IPY_MODEL_be0976fab05f4bfea88b9f909c3d1dc6",
       "style": "IPY_MODEL_011da2082450414884122dbb7c111288"
      }
     },
     "65bb849832dc46b49e78adef4d32aa8a": {
      "model_module": "@jupyter-widgets/controls",
      "model_module_version": "1.2.0",
      "model_name": "DescriptionStyleModel",
      "state": {
       "description_width": ""
      }
     },
     "66d014d1b5734ebe9a6e622c7940767f": {
      "model_module": "@jupyter-widgets/controls",
      "model_module_version": "1.2.0",
      "model_name": "ButtonStyleModel",
      "state": {}
     },
     "6954e0c5a7ad46bf9dc9ae611f61878c": {
      "model_module": "@jupyter-widgets/controls",
      "model_module_version": "1.2.0",
      "model_name": "ButtonModel",
      "state": {
       "description": "Run Interact",
       "layout": "IPY_MODEL_ce46ddfb8f924a15a464ff9e1c136476",
       "style": "IPY_MODEL_66d014d1b5734ebe9a6e622c7940767f"
      }
     },
     "698cd3981e3a4803827aaf2f4c0077c7": {
      "model_module": "@jupyter-widgets/controls",
      "model_module_version": "1.2.0",
      "model_name": "VBoxModel",
      "state": {
       "_dom_classes": [
        "widget-interact"
       ],
       "children": [
        "IPY_MODEL_2dc3f791bc38468a9d2229e04ecd9006",
        "IPY_MODEL_6954e0c5a7ad46bf9dc9ae611f61878c",
        "IPY_MODEL_b0fbbd14a9f84b7697821d76fbd547cd"
       ],
       "layout": "IPY_MODEL_de430fd1247a412685f1996fc65e392f"
      }
     },
     "6c75c4a65b4c4a8197eea646540a92f9": {
      "model_module": "@jupyter-widgets/controls",
      "model_module_version": "1.2.0",
      "model_name": "ButtonModel",
      "state": {
       "description": "Run Interact",
       "layout": "IPY_MODEL_bc0a2777a391499489e0cc739b47beb9",
       "style": "IPY_MODEL_9494194779a848838890bf128ba89d54"
      }
     },
     "80a12cceabf24a4b8ae507f751d2b4bc": {
      "model_module": "@jupyter-widgets/controls",
      "model_module_version": "1.2.0",
      "model_name": "DescriptionStyleModel",
      "state": {
       "description_width": ""
      }
     },
     "891e36a01414437299eeadbf81238684": {
      "model_module": "@jupyter-widgets/base",
      "model_module_version": "1.0.0",
      "model_name": "LayoutModel",
      "state": {}
     },
     "8e33c070b3404caf8ab18119ae899ecc": {
      "model_module": "@jupyter-widgets/base",
      "model_module_version": "1.0.0",
      "model_name": "LayoutModel",
      "state": {}
     },
     "92422058f95b42ddaa917db975361b21": {
      "model_module": "@jupyter-widgets/controls",
      "model_module_version": "1.2.0",
      "model_name": "TextareaModel",
      "state": {
       "description": "simscript",
       "layout": "IPY_MODEL_f29eab53108449038f6336d82be54797",
       "placeholder": "Enter your script here",
       "style": "IPY_MODEL_0d3ab997d15145cf978cc15e137e67f5"
      }
     },
     "92dba21f11064806a1d64ce3e2d17f38": {
      "model_module": "@jupyter-widgets/base",
      "model_module_version": "1.0.0",
      "model_name": "LayoutModel",
      "state": {}
     },
     "9494194779a848838890bf128ba89d54": {
      "model_module": "@jupyter-widgets/controls",
      "model_module_version": "1.2.0",
      "model_name": "ButtonStyleModel",
      "state": {}
     },
     "94958ea19ace40e291be95e247189a22": {
      "model_module": "@jupyter-widgets/output",
      "model_module_version": "1.0.0",
      "model_name": "OutputModel",
      "state": {
       "layout": "IPY_MODEL_04cf28e18edd4327b6ceddc918b1a91e"
      }
     },
     "9ea5b392d6024bd3af2947539308ecac": {
      "model_module": "@jupyter-widgets/controls",
      "model_module_version": "1.2.0",
      "model_name": "TextareaModel",
      "state": {
       "description": "simscript",
       "layout": "IPY_MODEL_0e8be4d2b81d4ab9880e0d53f10e2cb6",
       "placeholder": "Enter your script here",
       "style": "IPY_MODEL_0eb49481e2fb4558bb348d93be6ad333",
       "value": "armory=us,khaz-modan,totemchan"
      }
     },
     "b0fbbd14a9f84b7697821d76fbd547cd": {
      "model_module": "@jupyter-widgets/output",
      "model_module_version": "1.0.0",
      "model_name": "OutputModel",
      "state": {
       "layout": "IPY_MODEL_d9209321b8ae411b9a78b1693b112798"
      }
     },
     "b410037b6d074b098d95d4678753d8ba": {
      "model_module": "@jupyter-widgets/controls",
      "model_module_version": "1.2.0",
      "model_name": "TextareaModel",
      "state": {
       "description": "simscript",
       "layout": "IPY_MODEL_8e33c070b3404caf8ab18119ae899ecc",
       "placeholder": "Enter your script here",
       "style": "IPY_MODEL_fa65e8edb04c4a9985cdcfb3bd930ead"
      }
     },
     "bc0a2777a391499489e0cc739b47beb9": {
      "model_module": "@jupyter-widgets/base",
      "model_module_version": "1.0.0",
      "model_name": "LayoutModel",
      "state": {}
     },
     "be0976fab05f4bfea88b9f909c3d1dc6": {
      "model_module": "@jupyter-widgets/base",
      "model_module_version": "1.0.0",
      "model_name": "LayoutModel",
      "state": {}
     },
     "ccfd2f9c19914dfda71c5fc8ddd21ae7": {
      "model_module": "@jupyter-widgets/output",
      "model_module_version": "1.0.0",
      "model_name": "OutputModel",
      "state": {
       "layout": "IPY_MODEL_f29aa81751be4ace9a877cdd88ca68b4"
      }
     },
     "ce46ddfb8f924a15a464ff9e1c136476": {
      "model_module": "@jupyter-widgets/base",
      "model_module_version": "1.0.0",
      "model_name": "LayoutModel",
      "state": {}
     },
     "d2a6404cc8b643cf9d5f2fc4d7d984d5": {
      "model_module": "@jupyter-widgets/base",
      "model_module_version": "1.0.0",
      "model_name": "LayoutModel",
      "state": {}
     },
     "d42ca481a70047d6ae4a4f65caf68382": {
      "model_module": "@jupyter-widgets/controls",
      "model_module_version": "1.2.0",
      "model_name": "ButtonStyleModel",
      "state": {}
     },
     "d9209321b8ae411b9a78b1693b112798": {
      "model_module": "@jupyter-widgets/base",
      "model_module_version": "1.0.0",
      "model_name": "LayoutModel",
      "state": {}
     },
     "d9f30d8823b142cb989a3b5c32d91fac": {
      "model_module": "@jupyter-widgets/base",
      "model_module_version": "1.0.0",
      "model_name": "LayoutModel",
      "state": {}
     },
     "de430fd1247a412685f1996fc65e392f": {
      "model_module": "@jupyter-widgets/base",
      "model_module_version": "1.0.0",
      "model_name": "LayoutModel",
      "state": {}
     },
     "e36498a09d18417b8f3cd29092b95c87": {
      "model_module": "@jupyter-widgets/controls",
      "model_module_version": "1.2.0",
      "model_name": "VBoxModel",
      "state": {
       "_dom_classes": [
        "widget-interact"
       ],
       "children": [
        "IPY_MODEL_b410037b6d074b098d95d4678753d8ba",
        "IPY_MODEL_6c75c4a65b4c4a8197eea646540a92f9",
        "IPY_MODEL_ccfd2f9c19914dfda71c5fc8ddd21ae7"
       ],
       "layout": "IPY_MODEL_d9f30d8823b142cb989a3b5c32d91fac"
      }
     },
     "f29aa81751be4ace9a877cdd88ca68b4": {
      "model_module": "@jupyter-widgets/base",
      "model_module_version": "1.0.0",
      "model_name": "LayoutModel",
      "state": {}
     },
     "f29eab53108449038f6336d82be54797": {
      "model_module": "@jupyter-widgets/base",
      "model_module_version": "1.0.0",
      "model_name": "LayoutModel",
      "state": {}
     },
     "fa65e8edb04c4a9985cdcfb3bd930ead": {
      "model_module": "@jupyter-widgets/controls",
      "model_module_version": "1.2.0",
      "model_name": "DescriptionStyleModel",
      "state": {
       "description_width": ""
      }
     },
     "fb9a5dfbe9d740e9aeabd89b6e746831": {
      "model_module": "@jupyter-widgets/output",
      "model_module_version": "1.0.0",
      "model_name": "OutputModel",
      "state": {
       "layout": "IPY_MODEL_1a7055bce01640f190c8f597291728a3"
      }
     }
    },
    "version_major": 2,
    "version_minor": 0
   }
  }
 },
 "nbformat": 4,
 "nbformat_minor": 2
}
